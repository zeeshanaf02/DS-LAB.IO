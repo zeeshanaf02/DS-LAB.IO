{
 "cells": [
  {
   "cell_type": "code",
   "execution_count": 1,
   "id": "6133eed7-ead0-40d5-bc9b-fa747542a565",
   "metadata": {},
   "outputs": [
    {
     "name": "stdout",
     "output_type": "stream",
     "text": [
      "No solution found.\n"
     ]
    }
   ],
   "source": [
    "class State:\n",
    "    def __init__(self,missionaries,cannibals,boat):\n",
    "        self.missionaries=missionaries\n",
    "        self.cannibals=cannibals\n",
    "        self.boat=boat\n",
    "    def is_valid(self):\n",
    "        if self.missionaries<0 or self.missionaries>3:\n",
    "            return False\n",
    "        if self.cannibals<0 or self.cannibals>3:\n",
    "            return False\n",
    "        if self.missionaries<self.cannibals and self.missionaries>0:\n",
    "            return False\n",
    "        if 3-self.missionaries<3-self.cannibals and 3-self.missionaries>0:\n",
    "            return False\n",
    "        return True\n",
    "    def is_goal(self):\n",
    "        return self.missionaries==0 and self.canniabals==0 and self.boat==0\n",
    "    def __eq__(self,other):\n",
    "        return self.missionaries==other.missionaries and self.cannibals==other.cannibals and self.boat==other.boat\n",
    "    def __hash__(self):\n",
    "        return hash((self.missionaries,self.cannibals,self.boat))\n",
    "    def __str__(self):\n",
    "        return f\"M:{self.missionaries},C:{self.cannibals},B:{'left'if self.boat==0 else 'right'}\"\n",
    "def successors(state):\n",
    "    children=[]\n",
    "    if state.boat==0:\n",
    "        for m in range(3):\n",
    "            for c in range(3):\n",
    "                if 1<=m+c<=2:\n",
    "                    new_state=State(state.missionaries-m,state.cannibals-c,1)\n",
    "                    if new_state.is_valid():\n",
    "                        children.append(new_state)\n",
    "    else:\n",
    "        for m in range(3):\n",
    "            for c in range(3):\n",
    "                if 1<=m+c<=2:\n",
    "                    new_state=State(state.missionaries+m,state.cannibals+c,0)\n",
    "                    if new_state.is_valid():\n",
    "                        children.append(new_state)\n",
    "    return children\n",
    "def best_first_search():\n",
    "    initial_state=State(3,3,0)\n",
    "    frontier=[initial_state]\n",
    "    explored=set()\n",
    "    while frontier:\n",
    "        frontier.sort(key=lambda state:(state.missionaries+state.cannibals)*10+state.boat)\n",
    "        state=frontier.pop(0)\n",
    "        if state.is_goal():\n",
    "            return state\n",
    "        explored.add(state)\n",
    "        for child in successors(state):\n",
    "            if child not in explored and child not in frontier:\n",
    "                frontier.append(child)\n",
    "        return None\n",
    "def print_solution(solution):\n",
    "    if solution:\n",
    "        path=[]\n",
    "        while solution:\n",
    "            path.append(solution)\n",
    "            solution=solution.parent\n",
    "        path.reverse()\n",
    "        for i, state in enumerate(path):\n",
    "            print(f\"Step {i}:{state}\")\n",
    "    else:\n",
    "        print(\"No solution found.\")\n",
    "if __name__==\"__main__\":\n",
    "    solution=best_first_search()\n",
    "    print_solution(solution)"
   ]
  }
 ],
 "metadata": {
  "kernelspec": {
   "display_name": "Python 3 (ipykernel)",
   "language": "python",
   "name": "python3"
  },
  "language_info": {
   "codemirror_mode": {
    "name": "ipython",
    "version": 3
   },
   "file_extension": ".py",
   "mimetype": "text/x-python",
   "name": "python",
   "nbconvert_exporter": "python",
   "pygments_lexer": "ipython3",
   "version": "3.10.12"
  }
 },
 "nbformat": 4,
 "nbformat_minor": 5
}
