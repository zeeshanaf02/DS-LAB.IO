{
 "cells": [
  {
   "cell_type": "code",
   "execution_count": 7,
   "id": "8c113327-f95e-490f-9ea6-3f002f9cd220",
   "metadata": {},
   "outputs": [
    {
     "name": "stdout",
     "output_type": "stream",
     "text": [
      "Resulting Clauses after Resolution:\n",
      "D | ~A\n",
      "~D\n",
      "A | B | C\n",
      "~B | ~C\n"
     ]
    }
   ],
   "source": [
    "from sympy import symbols, Or, Not\n",
    "\n",
    "def resolution(clause1, clause2):\n",
    "    resolved = False\n",
    "    new_clause = None\n",
    "    for literal in clause1:\n",
    "        if Not(literal) in clause2:\n",
    "            resolved=True\n",
    "            new_clause=Or([l for l in clause1 if l != literal]+[l for l in clause2 if l != Not(literal)])\n",
    "            break\n",
    "    return resolved,new_clause\n",
    "\n",
    "def resolution_algorithm(clauses):\n",
    "    new_clauses = set(clauses)\n",
    "    while True:\n",
    "        new_clauses_size = len(new_clauses)\n",
    "        for clause1 in new_clauses:\n",
    "            for clause2 in new_clauses:\n",
    "                if clause1 != clause2:\n",
    "                    resolved, new_clause = resolution(clause1, clause2)\n",
    "                    if resolved and new_clause != False:\n",
    "                        new_clauses.add(new_clause)\n",
    "                if len(new_clauses) == new_clauses_size:\n",
    "                    break\n",
    "            return new_clauses\n",
    "    \n",
    "if __name__ == \"__main__\":\n",
    "    A, B, C, D = symbols('A B C D')\n",
    "    clauses = [\n",
    "        Or(A, B, C),\n",
    "        Or(Not(A), D),\n",
    "        Or(Not(B), Not(C)),\n",
    "        Or(Not(D))\n",
    "    ]\n",
    "    new_clauses = resolution_algorithm(clauses)\n",
    "    print(\"Resulting Clauses after Resolution:\")\n",
    "    for clause in new_clauses:\n",
    "        print(clause)"
   ]
  },
  {
   "cell_type": "code",
   "execution_count": null,
   "id": "ed161535-adb6-40ac-878a-887762575463",
   "metadata": {},
   "outputs": [],
   "source": []
  }
 ],
 "metadata": {
  "kernelspec": {
   "display_name": "Python 3 (ipykernel)",
   "language": "python",
   "name": "python3"
  },
  "language_info": {
   "codemirror_mode": {
    "name": "ipython",
    "version": 3
   },
   "file_extension": ".py",
   "mimetype": "text/x-python",
   "name": "python",
   "nbconvert_exporter": "python",
   "pygments_lexer": "ipython3",
   "version": "3.10.12"
  }
 },
 "nbformat": 4,
 "nbformat_minor": 5
}
