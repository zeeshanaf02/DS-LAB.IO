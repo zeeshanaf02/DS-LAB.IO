{
 "cells": [
  {
   "cell_type": "code",
   "execution_count": 1,
   "id": "0e6563dd-a224-49df-a7d2-0d3a6176e1e0",
   "metadata": {},
   "outputs": [
    {
     "name": "stdout",
     "output_type": "stream",
     "text": [
      "Defaulting to user installation because normal site-packages is not writeable\n",
      "Collecting wikipedia\n",
      "  Downloading wikipedia-1.4.0.tar.gz (27 kB)\n",
      "  Preparing metadata (setup.py) ... \u001b[?25ldone\n",
      "\u001b[?25hRequirement already satisfied: beautifulsoup4 in ./.local/lib/python3.10/site-packages (from wikipedia) (4.12.2)\n",
      "Requirement already satisfied: requests<3.0.0,>=2.0.0 in ./.local/lib/python3.10/site-packages (from wikipedia) (2.31.0)\n",
      "Requirement already satisfied: idna<4,>=2.5 in /usr/lib/python3/dist-packages (from requests<3.0.0,>=2.0.0->wikipedia) (3.3)\n",
      "Requirement already satisfied: certifi>=2017.4.17 in /usr/lib/python3/dist-packages (from requests<3.0.0,>=2.0.0->wikipedia) (2020.6.20)\n",
      "Requirement already satisfied: charset-normalizer<4,>=2 in ./.local/lib/python3.10/site-packages (from requests<3.0.0,>=2.0.0->wikipedia) (3.2.0)\n",
      "Requirement already satisfied: urllib3<3,>=1.21.1 in /usr/lib/python3/dist-packages (from requests<3.0.0,>=2.0.0->wikipedia) (1.26.5)\n",
      "Requirement already satisfied: soupsieve>1.2 in ./.local/lib/python3.10/site-packages (from beautifulsoup4->wikipedia) (2.5)\n",
      "Building wheels for collected packages: wikipedia\n",
      "  Building wheel for wikipedia (setup.py) ... \u001b[?25ldone\n",
      "\u001b[?25h  Created wheel for wikipedia: filename=wikipedia-1.4.0-py3-none-any.whl size=11695 sha256=f99a9ec91787c771a935899bdd7b84a3a7772607dd1aba2ce5aaf10cad185532\n",
      "  Stored in directory: /home/student/.cache/pip/wheels/5e/b6/c5/93f3dec388ae76edc830cb42901bb0232504dfc0df02fc50de\n",
      "Successfully built wikipedia\n",
      "Installing collected packages: wikipedia\n",
      "Successfully installed wikipedia-1.4.0\n",
      "Note: you may need to restart the kernel to use updated packages.\n"
     ]
    }
   ],
   "source": [
    "pip install wikipedia"
   ]
  },
  {
   "cell_type": "code",
   "execution_count": 3,
   "id": "30497221-6c90-4212-a7bd-ca11453108dc",
   "metadata": {},
   "outputs": [
    {
     "name": "stdin",
     "output_type": "stream",
     "text": [
      "Enter the search term: rohit\n"
     ]
    },
    {
     "name": "stdout",
     "output_type": "stream",
     "text": [
      "Here's what I found :\n",
      "Rohit Gurunath Sharma (born 30 April 1987) is an Indian international cricketer who currently plays for and captains the India national cricket team in Test and One Day International (ODI) matches. Previously, he also captained the team in Twenty20 International (T20I) matches and led India's win in 2024 ICC Men's T20 World Cup, subsequent to which he retired from T20s in June, 2024.\n",
      "\n",
      " you can read more here:https://en.wikipedia.org/wiki/Rohit_Sharma\n"
     ]
    }
   ],
   "source": [
    "import wikipedia\n",
    "def search_and_return_info(query):\n",
    "    try:\n",
    "        wikipedia.set_lang(\"en\")\n",
    "        search_res=wikipedia.search(query)\n",
    "        if not search_res:\n",
    "            return \"No result found. please try another search term.\"\n",
    "        page_sum=wikipedia.summary(search_res[0],sentences=2)\n",
    "        page_url=wikipedia.page(search_res[0]).url\n",
    "        return f\"Here's what I found :\\n{page_sum}\\n\\n you can read more here:{page_url}\"\n",
    "    except wikipedia.exceptions.DisambiguationError as e:\n",
    "        return f\"Search term is ambiguous. Did you mean:{','.join(e.options[:5])}?\"\n",
    "    except wikipedia.exceptions.PageError:\n",
    "        return f\"No matching page found. Please try another search term.\"\n",
    "search_term=input(\"Enter the search term:\")\n",
    "res=search_and_return_info(search_term)\n",
    "print(res)"
   ]
  },
  {
   "cell_type": "code",
   "execution_count": 8,
   "id": "7572709c-f924-480d-8b5f-fc3695033820",
   "metadata": {},
   "outputs": [
    {
     "name": "stdout",
     "output_type": "stream",
     "text": [
      "Let's start the game!\n",
      "Round 1:\n",
      "Player1 rolled: 6\n",
      "Player2 rolled: 4\n",
      "Round 1 winner:Player 1\n",
      "Scores after round 1:player 1-6,Player 2-4\n",
      "\n",
      "Game over! Player 1 wins with a score of 6\n",
      "\n",
      "\n",
      "Round 2:\n",
      "Player1 rolled: 3\n",
      "Player2 rolled: 1\n",
      "Round 2 winner:Player 1\n",
      "Scores after round 2:player 1-9,Player 2-5\n",
      "\n",
      "Game over! Player 1 wins with a score of 9\n",
      "\n",
      "\n",
      "Round 3:\n",
      "Player1 rolled: 4\n",
      "Player2 rolled: 2\n",
      "Round 3 winner:Player 1\n",
      "Scores after round 3:player 1-13,Player 2-7\n",
      "\n",
      "Game over! Player 1 wins with a score of 13\n",
      "\n",
      "\n",
      "Round 4:\n",
      "Player1 rolled: 6\n",
      "Player2 rolled: 2\n",
      "Round 4 winner:Player 1\n",
      "Scores after round 4:player 1-19,Player 2-9\n",
      "\n",
      "Game over! Player 1 wins with a score of 19\n",
      "\n",
      "\n",
      "Round 5:\n",
      "Player1 rolled: 6\n",
      "Player2 rolled: 5\n",
      "Round 5 winner:Player 1\n",
      "Scores after round 5:player 1-25,Player 2-14\n",
      "\n",
      "Game over! Player 1 wins with a score of 25\n",
      "\n",
      "\n"
     ]
    }
   ],
   "source": [
    "import random\n",
    "class DiceGame:\n",
    "    def __init__(self,num_rounds):\n",
    "        self.num_rounds=num_rounds\n",
    "        self.player_scores=[0,0]\n",
    "    def roll_dice(self):\n",
    "        return random.randint(1,6)\n",
    "    def play_round(self):\n",
    "        round_winner=None\n",
    "        for i in range(2):\n",
    "            roll=self.roll_dice()\n",
    "            self.player_scores[i]+=roll\n",
    "            print(f\"Player{i+1} rolled: {roll}\")\n",
    "            if round_winner is None or roll>self.player_scores[round_winner]:\n",
    "                round_winner=i\n",
    "        return round_winner\n",
    "    def play_game(self):\n",
    "        print(\"Let's start the game!\")\n",
    "        for round_num in range(1,self.num_rounds+1):\n",
    "            print(f\"Round {round_num}:\")\n",
    "            round_winner=self.play_round()\n",
    "            print(f\"Round {round_num} winner:Player {round_winner+1}\")\n",
    "            print(f\"Scores after round {round_num}:player 1-{self.player_scores[0]},Player 2-{self.player_scores[1]}\")\n",
    "            print()\n",
    "            winner=0 if self.player_scores[0]>self.player_scores[1] else 1\n",
    "            print(f\"Game over! Player {winner+1} wins with a score of {self.player_scores[winner]}\\n\\n\")\n",
    "game=DiceGame(5)\n",
    "game.play_game()"
   ]
  }
 ],
 "metadata": {
  "kernelspec": {
   "display_name": "Python 3 (ipykernel)",
   "language": "python",
   "name": "python3"
  },
  "language_info": {
   "codemirror_mode": {
    "name": "ipython",
    "version": 3
   },
   "file_extension": ".py",
   "mimetype": "text/x-python",
   "name": "python",
   "nbconvert_exporter": "python",
   "pygments_lexer": "ipython3",
   "version": "3.10.12"
  }
 },
 "nbformat": 4,
 "nbformat_minor": 5
}
