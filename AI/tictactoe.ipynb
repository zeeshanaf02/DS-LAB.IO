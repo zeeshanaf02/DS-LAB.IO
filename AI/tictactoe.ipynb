{
 "cells": [
  {
   "cell_type": "code",
   "execution_count": 5,
   "id": "d41f3f68-ade1-42f5-8e30-825be02e3fbb",
   "metadata": {},
   "outputs": [
    {
     "name": "stdout",
     "output_type": "stream",
     "text": [
      " | | \n",
      "-----\n",
      " | | \n",
      "-----\n",
      " | | \n",
      "-----\n"
     ]
    },
    {
     "name": "stdin",
     "output_type": "stream",
     "text": [
      "Enter row(0,1,or 2) for player X: 0\n",
      "Enter column(0,1,or 2) for playerX: 2\n"
     ]
    },
    {
     "name": "stdout",
     "output_type": "stream",
     "text": [
      " | |X\n",
      "-----\n",
      " | | \n",
      "-----\n",
      " | | \n",
      "-----\n"
     ]
    },
    {
     "name": "stdin",
     "output_type": "stream",
     "text": [
      "Enter row(0,1,or 2) for player O: 1\n",
      "Enter column(0,1,or 2) for playerO: 1\n"
     ]
    },
    {
     "name": "stdout",
     "output_type": "stream",
     "text": [
      " | |X\n",
      "-----\n",
      " |O| \n",
      "-----\n",
      " | | \n",
      "-----\n"
     ]
    },
    {
     "name": "stdin",
     "output_type": "stream",
     "text": [
      "Enter row(0,1,or 2) for player X: 1\n",
      "Enter column(0,1,or 2) for playerX: 2\n"
     ]
    },
    {
     "name": "stdout",
     "output_type": "stream",
     "text": [
      " | |X\n",
      "-----\n",
      " |O|X\n",
      "-----\n",
      " | | \n",
      "-----\n"
     ]
    },
    {
     "name": "stdin",
     "output_type": "stream",
     "text": [
      "Enter row(0,1,or 2) for player O: 0\n",
      "Enter column(0,1,or 2) for playerO: 0\n"
     ]
    },
    {
     "name": "stdout",
     "output_type": "stream",
     "text": [
      "O| |X\n",
      "-----\n",
      " |O|X\n",
      "-----\n",
      " | | \n",
      "-----\n"
     ]
    },
    {
     "name": "stdin",
     "output_type": "stream",
     "text": [
      "Enter row(0,1,or 2) for player X: 2\n",
      "Enter column(0,1,or 2) for playerX: 2\n"
     ]
    },
    {
     "name": "stdout",
     "output_type": "stream",
     "text": [
      "O| |X\n",
      "-----\n",
      " |O|X\n",
      "-----\n",
      " | |X\n",
      "-----\n",
      "Player X wins! \n"
     ]
    }
   ],
   "source": [
    "import sys\n",
    "def print_board(board):\n",
    "    for row in board:\n",
    "        print(\"|\".join(row))\n",
    "        print(\"-\"*5)\n",
    "        \n",
    "def check_winner(board,player):\n",
    "    for i in range(3):\n",
    "        if all(board[i][j]==player for j in range(3)):\n",
    "            return True\n",
    "        if all(board[j][i]==player for j in range(3)):\n",
    "            return True\n",
    "    if all(board[i][i]==player for i in range(3)):\n",
    "        return True\n",
    "    if all(board[i][2-i]==player for i in range(3)):\n",
    "        return True\n",
    "    return False\n",
    "\n",
    "def board_full(board):\n",
    "    return all(board[i][j]!=\" \"for i in range(3) for j in range(3))\n",
    "\n",
    "def make_move(board,player,row,col):\n",
    "    if board[row][col]==\" \":\n",
    "        board[row][col]=player\n",
    "        return True\n",
    "    else:\n",
    "        return False\n",
    "\n",
    "def play_game():\n",
    "    board=[[\" \"for _ in range(3)]for _ in range(3)]\n",
    "    current_player=\"X\"\n",
    "    while True:\n",
    "        print_board(board)\n",
    "        row=int(input(\"Enter row(0,1,or 2) for player {}:\".format(current_player)))\n",
    "        col=int(input(\"Enter column(0,1,or 2) for player{}:\".format(current_player)))\n",
    "        if row<0 or row>2 or col<0 or col>2:\n",
    "            print(\"Invalid input! Row and Column must be between 0 and 2.\")\n",
    "            continue\n",
    "        if not make_move(board,current_player,row,col):\n",
    "            print(\"Invalid move! That position is already taken.\")\n",
    "            continue\n",
    "        if check_winner(board,current_player):\n",
    "            print_board(board)\n",
    "            print(\"Player {} wins! \".format(current_player))\n",
    "            break\n",
    "        if board_full(board):\n",
    "            print_board(board)\n",
    "            print(\"Its a tie\")\n",
    "            break\n",
    "        current_player=\"O\" if current_player==\"X\" else \"X\"\n",
    "if __name__==\"__main__\":\n",
    "    play_game()"
   ]
  },
  {
   "cell_type": "code",
   "execution_count": null,
   "id": "edd5532f-11b0-48bc-a7e5-bdbd22c7f21b",
   "metadata": {},
   "outputs": [],
   "source": []
  }
 ],
 "metadata": {
  "kernelspec": {
   "display_name": "Python 3 (ipykernel)",
   "language": "python",
   "name": "python3"
  },
  "language_info": {
   "codemirror_mode": {
    "name": "ipython",
    "version": 3
   },
   "file_extension": ".py",
   "mimetype": "text/x-python",
   "name": "python",
   "nbconvert_exporter": "python",
   "pygments_lexer": "ipython3",
   "version": "3.10.12"
  }
 },
 "nbformat": 4,
 "nbformat_minor": 5
}
