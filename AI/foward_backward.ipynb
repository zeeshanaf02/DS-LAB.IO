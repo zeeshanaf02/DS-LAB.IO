{
 "cells": [
  {
   "cell_type": "code",
   "execution_count": 1,
   "id": "28137bf1-94fb-479a-b7b8-fcaeb49ca2ff",
   "metadata": {},
   "outputs": [
    {
     "name": "stdout",
     "output_type": "stream",
     "text": [
      "Goal'E' can  be reached using forward chaining.\n"
     ]
    }
   ],
   "source": [
    "def forward_chaining(rules,facts,goal):\n",
    "    while True:\n",
    "        new_facts=set()\n",
    "        for rule in rules:\n",
    "            premise,conclusion=rule\n",
    "            if all(fact in facts for fact in premise) and conclusion not in facts:\n",
    "                new_facts.add(conclusion)\n",
    "        if not new_facts:\n",
    "            break\n",
    "        facts.update(new_facts)\n",
    "        if goal in facts:\n",
    "            return True\n",
    "    return False\n",
    "rules=[\n",
    "    (['A','B'],'C'),\n",
    "    (['C'],'D'),\n",
    "    (['D'],'E')\n",
    "]\n",
    "facts={'A','B'}\n",
    "goal='E'\n",
    "result=forward_chaining(rules,facts,goal)\n",
    "print(\"Goal'{}' can {} be reached using forward chaining.\".format(goal,''if result else 'not'))"
   ]
  },
  {
   "cell_type": "code",
   "execution_count": 4,
   "id": "21431951-4240-45f4-88ee-63c35b64b318",
   "metadata": {},
   "outputs": [
    {
     "name": "stdout",
     "output_type": "stream",
     "text": [
      "Goal'C' can  be reached using backward chaining.\n"
     ]
    }
   ],
   "source": [
    "def backward_chaining(rules,facts,goal):\n",
    "    if goal in facts:\n",
    "        return True\n",
    "    for rule in rules:\n",
    "        premise,conclusion=rule\n",
    "        if conclusion==goal:\n",
    "            if all(backward_chaining(rules,facts,fact)for fact in premise):\n",
    "                return True\n",
    "    return False\n",
    "rules=[\n",
    "    (['A','B'],'C'),\n",
    "    (['C'],'D'),\n",
    "    (['D'],'E')\n",
    "]\n",
    "facts={'A','B'}\n",
    "goal='C'\n",
    "result=forward_chaining(rules,facts,goal)\n",
    "print(\"Goal'{}' can {} be reached using backward chaining.\".format(goal,''if result else 'not'))"
   ]
  },
  {
   "cell_type": "code",
   "execution_count": null,
   "id": "a49d14b2-04b7-4c59-8875-87ac65c93600",
   "metadata": {},
   "outputs": [],
   "source": []
  }
 ],
 "metadata": {
  "kernelspec": {
   "display_name": "Python 3 (ipykernel)",
   "language": "python",
   "name": "python3"
  },
  "language_info": {
   "codemirror_mode": {
    "name": "ipython",
    "version": 3
   },
   "file_extension": ".py",
   "mimetype": "text/x-python",
   "name": "python",
   "nbconvert_exporter": "python",
   "pygments_lexer": "ipython3",
   "version": "3.10.12"
  }
 },
 "nbformat": 4,
 "nbformat_minor": 5
}
